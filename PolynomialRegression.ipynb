{
 "cells": [
  {
   "cell_type": "code",
   "execution_count": 75,
   "metadata": {
    "collapsed": true
   },
   "outputs": [],
   "source": [
    "from sklearn import linear_model\n",
    "from sklearn import metrics\n",
    "import matplotlib.pyplot as plot\n",
    "import pandas as pd\n",
    "from sklearn.preprocessing import PolynomialFeatures"
   ]
  },
  {
   "cell_type": "code",
   "execution_count": 76,
   "metadata": {
    "collapsed": true
   },
   "outputs": [],
   "source": [
    "from sklearn import datasets ## imports datasets from scikit-learn\n",
    "data = datasets.load_boston() ## loads Boston dataset from datasets library"
   ]
  },
  {
   "cell_type": "code",
   "execution_count": 77,
   "metadata": {},
   "outputs": [
    {
     "name": "stdout",
     "output_type": "stream",
     "text": [
      "Boston House Prices dataset\n",
      "===========================\n",
      "\n",
      "Notes\n",
      "------\n",
      "Data Set Characteristics:  \n",
      "\n",
      "    :Number of Instances: 506 \n",
      "\n",
      "    :Number of Attributes: 13 numeric/categorical predictive\n",
      "    \n",
      "    :Median Value (attribute 14) is usually the target\n",
      "\n",
      "    :Attribute Information (in order):\n",
      "        - CRIM     per capita crime rate by town\n",
      "        - ZN       proportion of residential land zoned for lots over 25,000 sq.ft.\n",
      "        - INDUS    proportion of non-retail business acres per town\n",
      "        - CHAS     Charles River dummy variable (= 1 if tract bounds river; 0 otherwise)\n",
      "        - NOX      nitric oxides concentration (parts per 10 million)\n",
      "        - RM       average number of rooms per dwelling\n",
      "        - AGE      proportion of owner-occupied units built prior to 1940\n",
      "        - DIS      weighted distances to five Boston employment centres\n",
      "        - RAD      index of accessibility to radial highways\n",
      "        - TAX      full-value property-tax rate per $10,000\n",
      "        - PTRATIO  pupil-teacher ratio by town\n",
      "        - B        1000(Bk - 0.63)^2 where Bk is the proportion of blacks by town\n",
      "        - LSTAT    % lower status of the population\n",
      "        - MEDV     Median value of owner-occupied homes in $1000's\n",
      "\n",
      "    :Missing Attribute Values: None\n",
      "\n",
      "    :Creator: Harrison, D. and Rubinfeld, D.L.\n",
      "\n",
      "This is a copy of UCI ML housing dataset.\n",
      "http://archive.ics.uci.edu/ml/datasets/Housing\n",
      "\n",
      "\n",
      "This dataset was taken from the StatLib library which is maintained at Carnegie Mellon University.\n",
      "\n",
      "The Boston house-price data of Harrison, D. and Rubinfeld, D.L. 'Hedonic\n",
      "prices and the demand for clean air', J. Environ. Economics & Management,\n",
      "vol.5, 81-102, 1978.   Used in Belsley, Kuh & Welsch, 'Regression diagnostics\n",
      "...', Wiley, 1980.   N.B. Various transformations are used in the table on\n",
      "pages 244-261 of the latter.\n",
      "\n",
      "The Boston house-price data has been used in many machine learning papers that address regression\n",
      "problems.   \n",
      "     \n",
      "**References**\n",
      "\n",
      "   - Belsley, Kuh & Welsch, 'Regression diagnostics: Identifying Influential Data and Sources of Collinearity', Wiley, 1980. 244-261.\n",
      "   - Quinlan,R. (1993). Combining Instance-Based and Model-Based Learning. In Proceedings on the Tenth International Conference of Machine Learning, 236-243, University of Massachusetts, Amherst. Morgan Kaufmann.\n",
      "   - many more! (see http://archive.ics.uci.edu/ml/datasets/Housing)\n",
      "\n"
     ]
    }
   ],
   "source": [
    "print(data.DESCR)"
   ]
  },
  {
   "cell_type": "code",
   "execution_count": 78,
   "metadata": {
    "collapsed": true
   },
   "outputs": [],
   "source": [
    "# define the data/predictors as the pre-set feature names  \n",
    "df = pd.DataFrame(data.data, columns=data.feature_names)\n",
    "\n",
    "# Put the target (housing value -- MEDV) in another DataFrame\n",
    "target = pd.DataFrame(data.target, columns=[\"MEDV\"])"
   ]
  },
  {
   "cell_type": "code",
   "execution_count": 99,
   "metadata": {},
   "outputs": [],
   "source": [
    "X = df.iloc[:, :]\n",
    "#X = X.values.reshape(-1, 1)\n",
    "y = target[\"MEDV\"]"
   ]
  },
  {
   "cell_type": "code",
   "execution_count": 111,
   "metadata": {},
   "outputs": [],
   "source": [
    "poly = PolynomialFeatures(degree=3)\n",
    "X_train_poly = poly.fit_transform(X)"
   ]
  },
  {
   "cell_type": "code",
   "execution_count": 112,
   "metadata": {},
   "outputs": [],
   "source": [
    "lm = linear_model.LinearRegression()\n",
    "#model = lm.fit(X,y)\n",
    "model = lm.fit(X_train_poly,y)"
   ]
  },
  {
   "cell_type": "code",
   "execution_count": 113,
   "metadata": {},
   "outputs": [
    {
     "data": {
      "text/plain": [
       "array([ 23.99998919,  21.56450962,  34.73329976,  33.41622539,\n",
       "        36.19234123,  28.68522772,  22.97918809,  27.07729993,\n",
       "        16.49886736,  18.94439995,  15.01954048,  18.80529579,\n",
       "        21.67252714,  20.32354513,  18.2402021 ,  19.97433544,\n",
       "        23.10460601,  17.78915466,  20.20485765,  18.11538555,\n",
       "        13.64553681,  19.52687809,  15.18260717,  14.56851836,\n",
       "        15.406167  ,  13.8643809 ,  16.57151093,  14.85995828,\n",
       "        18.52451738,  20.83185989,  12.61050376,  14.53173262,\n",
       "        13.20574299,  13.1405028 ,  13.48182341,  18.91856225,\n",
       "        20.00415529,  20.87291326,  24.80447482,  30.82753468,\n",
       "        34.87513003,  26.62725498,  25.29563288,  24.6373701 ,\n",
       "        21.22987248,  19.35685992,  19.97474343,  16.58956398,\n",
       "        14.40427578,  19.37872251,  19.68186164,  20.55350735,\n",
       "        24.99621283,  23.35901862,  18.89542901,  35.39735802,\n",
       "        24.70179411,  31.59955621,  23.27923288,  19.61701915,\n",
       "        18.6816442 ,  16.00226379,  22.17830815,  25.03971879,\n",
       "        32.99837344,  23.51383318,  19.38010921,  22.06492373,\n",
       "        17.41947837,  20.82223658,  24.2396079 ,  21.65784919,\n",
       "        22.7322749 ,  23.46586865,  24.07016567,  21.435068  ,\n",
       "        19.98692298,  20.83980816,  21.16612139,  20.31248984,\n",
       "        28.13194991,  23.85485089,  24.60032288,  23.00851887,\n",
       "        24.33342336,  26.21178949,  22.27307859,  22.37778168,\n",
       "        23.64648105,  28.58688962,  22.59863074,  22.0648097 ,\n",
       "        22.91720943,  24.98903319,  20.58861343,  28.42191924,\n",
       "        21.36629164,  38.72062637,  43.84692404,  33.1439739 ,\n",
       "        27.47088281,  26.50902128,  18.6072678 ,  19.42893647,\n",
       "        19.94589724,  19.53797032,  19.473997  ,  20.39897805,\n",
       "        19.87193834,  19.3688458 ,  21.71529784,  22.79428792,\n",
       "        18.84549882,  18.69647116,  18.40546817,  18.30953973,\n",
       "        21.25201917,  19.25513191,  20.41577962,  19.25357081,\n",
       "        21.99612618,  20.30773797,  20.46847114,  17.30376821,\n",
       "        18.80978574,  21.39378462,  15.69662956,  16.29332877,\n",
       "        17.79372351,  14.23876737,  19.33738611,  19.63145085,\n",
       "        22.91553649,  18.39038917,  15.60237448,  18.17395102,\n",
       "        17.3908622 ,  17.11610782,  13.25022624,  17.88109213,\n",
       "        14.02025137,  14.40002322,  13.4006684 ,  15.59614898,\n",
       "        11.85188667,  13.79871918,  15.59581277,  14.51902773,\n",
       "        17.85288896,  15.38093051,  21.49905785,  19.60018218,\n",
       "        15.30265153,  19.41213368,  17.00248304,  15.59746605,\n",
       "        13.10664078,  41.34524353,  24.28079714,  23.30573134,\n",
       "        26.99986561,  49.95848993,  50.00055319,  50.00140173,\n",
       "        22.74802838,  25.01839096,  50.02687345,  23.80110509,\n",
       "        23.84350664,  22.21060998,  17.40185056,  19.09106958,\n",
       "        23.05423371,  23.67420981,  22.62062785,  29.39770125,\n",
       "        23.20834395,  24.62292131,  29.82387796,  37.21022674,\n",
       "        39.80568318,  36.15968782,  37.93587495,  32.43082206,\n",
       "        26.41604963,  29.6224834 ,  49.98799621,  32.01840596,\n",
       "        29.78567321,  34.8804513 ,  36.98943536,  30.4378071 ,\n",
       "        36.48349363,  31.11178909,  29.08686991,  50.00119139,\n",
       "        33.29748475,  30.30486972,  34.58946507,  34.90491841,\n",
       "        32.89263272,  24.11041376,  42.28672836,  48.45130687,\n",
       "        50.04288664,  22.73590281,  24.35934829,  22.51044749,\n",
       "        24.39942113,  19.9999539 ,  21.69896122,  19.29795476,\n",
       "        22.40258677,  28.0501873 ,  23.68780799,  24.94960578,\n",
       "        23.29726923,  28.69884424,  21.50010645,  23.00103959,\n",
       "        26.7000275 ,  21.70242367,  27.49884055,  30.12306028,\n",
       "        44.69213852,  50.00356733,  37.69959154,  31.55228266,\n",
       "        46.71919427,  31.49096787,  24.28475966,  31.76151432,\n",
       "        41.70901066,  48.34041156,  29.00058308,  24.0209669 ,\n",
       "        25.10025997,  31.41122616,  23.67048868,  23.28171338,\n",
       "        22.0366069 ,  20.11137715,  22.14266778,  23.7488675 ,\n",
       "        17.64166531,  18.49867754,  24.30699198,  20.4904157 ,\n",
       "        24.47281735,  26.14786004,  24.43360951,  24.81266868,\n",
       "        29.60816365,  42.79466336,  21.87227439,  20.9214929 ,\n",
       "        44.00158499,  50.00243179,  35.98150507,  30.093559  ,\n",
       "        33.79019882,  43.22198522,  48.74554766,  31.01565306,\n",
       "        36.45096676,  22.79561114,  30.68378591,  50.00804606,\n",
       "        43.48749891,  20.69497169,  21.08820676,  25.21850057,\n",
       "        24.38367537,  35.1962471 ,  32.39993593,  32.02660042,\n",
       "        33.19615532,  33.09656861,  29.07207321,  35.10592707,\n",
       "        45.39131643,  35.39578689,  45.99806759,  49.9990196 ,\n",
       "        32.19850868,  22.00008159,  20.10048551,  23.20096884,\n",
       "        22.3185859 ,  24.78150666,  28.47550331,  37.31135291,\n",
       "        27.90800819,  23.90374211,  21.68325549,  28.60358404,\n",
       "        27.1046333 ,  20.30274804,  22.49221674,  29.00103749,\n",
       "        24.80287744,  21.99277841,  26.49025697,  33.01417637,\n",
       "        36.09688866,  28.41780188,  33.39148052,  28.18240242,\n",
       "        22.95369696,  19.83973205,  16.10102958,  22.09112678,\n",
       "        19.61362808,  21.60914639,  23.53618163,  16.34510932,\n",
       "        17.90200164,  19.66642266,  23.31754609,  21.02115281,\n",
       "        23.15221165,  23.9222908 ,  20.22778513,  18.47778524,\n",
       "        24.96338871,  24.39404405,  23.2157805 ,  22.24292449,\n",
       "        19.32645821,  22.58374651,  19.79806647,  17.10406464,\n",
       "        19.39484431,  22.11735931,  20.78714419,  21.13511708,\n",
       "        19.67646613,  18.30827046,  20.58448552,  18.79893865,\n",
       "        18.86856071,  32.69833989,  16.5007443 ,  23.9046928 ,\n",
       "        31.19176571,  17.51466994,  17.18961375,  23.10085253,\n",
       "        24.49989424,  26.60092487,  22.89718091,  24.10594727,\n",
       "        18.59379504,  30.09759179,  18.19481713,  20.60234361,\n",
       "        17.7971987 ,  21.69934572,  22.70778753,  23.18862559,\n",
       "        24.77981456,  19.33435008,  20.95258323,  16.79655303,\n",
       "        21.89847165,  27.52185359,  21.51154153,  23.07259634,\n",
       "        50.02275392,  50.00117283,  50.00328491,  49.707419  ,\n",
       "        49.99144363,  13.60307696,  13.81347996,  15.22201146,\n",
       "        13.95330657,  12.68509452,  12.7620563 ,   9.78568015,\n",
       "        10.38444442,  10.73289029,  10.17964987,  10.40272038,\n",
       "         8.94945262,   8.40517043,  10.1295994 ,   6.97345455,\n",
       "         9.79695659,  11.12274501,  14.96926676,  20.86241515,\n",
       "        11.5395467 ,  13.64594376,  11.2859697 ,  12.62663385,\n",
       "        14.983435  ,  11.29944059,   4.90248213,   6.45910009,\n",
       "         5.91008532,   9.38263253,  10.538231  ,   8.39419682,\n",
       "         8.64757151,   5.03802665,  11.91071611,  28.25471266,\n",
       "        17.38366324,  27.66873758,  15.00137059,  17.11452093,\n",
       "        17.90801267,  16.30371545,   6.99582191,   7.03131646,\n",
       "         7.65623605,  10.3159239 ,   8.8036343 ,   8.38135364,\n",
       "        15.16268944,  15.81186029,  20.76605211,  13.43401757,\n",
       "        11.83143067,   8.73432704,  10.11910743,  10.89061033,\n",
       "        10.84339903,   9.20284506,  13.81093113,  14.37818403,\n",
       "        16.39303993,  14.35245343,  11.79868647,  13.78091024,\n",
       "         9.73139096,   8.57027571,   8.40404129,  13.4324046 ,\n",
       "        10.10026064,  15.533415  ,  15.94108386,  15.60571072,\n",
       "        10.09990878,  11.8121728 ,  16.01464683,  16.14007586,\n",
       "        13.23107483,  13.4540739 ,  13.02915129,  15.74155397,\n",
       "        17.35267727,  17.73902464,  14.98847548,  14.4023806 ,\n",
       "        12.77654088,  13.26647252,  15.27239316,  18.45189016,\n",
       "        15.47153418,  18.98241405,  18.22869407,  20.50942957,\n",
       "        22.46616761,  20.02008   ,  19.07483436,  18.76358836,\n",
       "        18.94556503,  20.10196954,  19.58890333,  19.67164853,\n",
       "        23.50237247,  29.57849057,  13.68648138,  13.5766895 ,\n",
       "        16.5445173 ,  12.02626114,  14.395996  ,  21.72924336,\n",
       "        23.26155371,  23.73740178,  24.84759885,  21.70365714,\n",
       "        20.76923412,  21.03432674,  19.37464948,  20.28633486,\n",
       "        15.19768233,   7.0124026 ,   8.0920936 ,  13.60682295,\n",
       "        20.10200977,  21.97544573,  24.40665354,  23.08475284,\n",
       "        19.77792801,  18.16944117,  21.4463701 ,  17.308039  ,\n",
       "        16.73656303,  22.37403777,  20.62724507,  23.90364808,\n",
       "        22.01089491,  11.87748832])"
      ]
     },
     "execution_count": 113,
     "metadata": {},
     "output_type": "execute_result"
    }
   ],
   "source": [
    "#predictions = lm.predict(X)\n",
    "predictions = lm.predict(X_train_poly)\n",
    "predictions"
   ]
  },
  {
   "cell_type": "code",
   "execution_count": 114,
   "metadata": {},
   "outputs": [
    {
     "name": "stdout",
     "output_type": "stream",
     "text": [
      "0.170214966502\n"
     ]
    }
   ],
   "source": [
    "print(metrics.mean_squared_error(y, predictions))"
   ]
  },
  {
   "cell_type": "code",
   "execution_count": 115,
   "metadata": {},
   "outputs": [
    {
     "data": {
      "text/plain": [
       "array([  2.24045080e+04,  -1.32539083e+04,  -1.49781247e+04,\n",
       "        -6.59438557e+04,   3.41287942e+04,   9.59856667e+03,\n",
       "        -7.54766200e+03,   1.20839879e+02,   5.11715944e+03,\n",
       "        -4.48703181e+05,   1.13840024e+04,  -1.26675829e+05,\n",
       "        -4.73290551e+02,  -1.28306288e+03,   8.50771360e+02,\n",
       "         9.85406394e+02,  -6.56372912e+02,   2.52658016e+02,\n",
       "         1.92958672e+04,   7.34061367e+01,   2.66730137e+00,\n",
       "         5.87329836e+02,  -4.23537042e+03,   1.48923065e+02,\n",
       "        -1.85699695e+03,   6.93542387e+01,   6.15296668e+01,\n",
       "        -7.06472109e+00,   2.71800283e+02,   3.23523876e+01,\n",
       "         3.98144992e+03,   1.91561119e+02,  -2.05595032e+00,\n",
       "         5.60513437e+01,   1.82013879e+03,  -2.70991773e+01,\n",
       "         1.28608974e+03,   1.10424024e+01,   3.26360009e+01,\n",
       "        -1.45639186e+03,  -3.84134887e+01,  -3.30655235e+03,\n",
       "        -1.23024549e+02,   6.60767255e+00,  -3.71443479e+01,\n",
       "        -7.79003970e+03,   4.34450083e+02,   3.44204382e+03,\n",
       "        -5.83284502e+00,   3.21371598e+01,  -1.72778004e+01,\n",
       "        -1.13654518e+01,  -2.67011692e+00,   1.42574206e+01,\n",
       "        -2.27426928e+00,   1.01002570e+01,  -4.56529893e+00,\n",
       "        -4.07073975e+00,  -2.81310855e+01,   3.28579453e+00,\n",
       "        -2.40252916e+05,  -3.46284670e+03,   5.95768978e+01,\n",
       "        -3.84531279e+03,   7.08808270e+05,  -2.61968230e+04,\n",
       "         2.74776474e+05,   4.98363752e+02,  -6.16013825e+02,\n",
       "         7.28602792e+01,  -6.96676885e+00,  -1.57203877e+02,\n",
       "        -8.72367225e+02,   4.00714873e+01,   3.73429669e+02,\n",
       "         3.40151761e+00,   1.44838317e+01,   1.16231354e-01,\n",
       "         5.38093650e+00,   1.02366565e+01,  -5.28270734e-01,\n",
       "        -3.88324778e+00,  -2.83602368e-01,  -1.14942387e+00,\n",
       "         4.28001176e+01,  -2.62592019e+02,   3.20887614e+00,\n",
       "        -6.17100260e+02,   1.14948770e+01,   1.12006599e+01,\n",
       "         4.69198466e+03,   1.49979836e+01,   3.12183665e+04,\n",
       "        -3.25706399e+01,  -1.48883733e+01,  -7.15746189e+00,\n",
       "        -5.31175240e+02,   1.68327566e+00,   5.84239751e-01,\n",
       "         2.54294227e+03,   5.07034949e+00,   7.76090658e+01,\n",
       "         2.38043694e-01,   1.77392233e+00,   2.70092812e+00,\n",
       "         1.20822330e-04,  -3.70063325e+01,   1.23532586e+02,\n",
       "         2.34886753e-01,   1.55605200e+00,   5.61014060e-03,\n",
       "        -2.23659260e-03,  -5.57866533e-02,   1.60056993e+02,\n",
       "        -1.21264819e+01,   5.68008418e+01,  -9.35964866e-05,\n",
       "         1.70275717e-04,  -6.03835642e-01,   7.61614177e-01,\n",
       "        -6.38184753e-01,  -1.29359092e+03,   4.45841310e+01,\n",
       "        -1.51847423e-01,  -1.34149253e+00,  -1.66361486e+01,\n",
       "         5.17403057e-01,  -1.88925565e+01,  -1.02554320e+00,\n",
       "         2.83093729e+00,   1.31312135e+00,   3.99842443e+00,\n",
       "        -1.87856317e+03,   2.13532267e+01,   9.49326426e-01,\n",
       "        -2.13033299e+01,  -5.23164656e+01,   6.55753828e-02,\n",
       "         2.42190084e+01,   2.79930300e+00,   2.90363989e+00,\n",
       "         3.77780168e-01,  -4.60635167e-01,   1.01460737e+00,\n",
       "         3.51237768e+00,  -1.68121181e+00,  -3.51916986e+00,\n",
       "        -3.70676203e-01,  -1.28901828e+00,  -3.14364334e-01,\n",
       "        -1.14868217e+01,  -8.04246519e+00,   6.84523407e+00,\n",
       "         8.83879337e-01,   3.47359670e+01,  -1.41233151e+03,\n",
       "         1.37294285e+02,  -2.13140057e+03,  -1.17454566e-02,\n",
       "         3.59871090e-01,   1.03755717e+00,  -1.96431650e-01,\n",
       "        -2.32034733e+00,   3.53462565e+01,  -2.53323046e+00,\n",
       "         1.89085243e+01,  -4.25229362e-03,   1.95399228e-01,\n",
       "        -1.42849789e-04,  -1.61785499e-01,   1.33146005e+00,\n",
       "        -9.75857516e-02,   7.21040716e-01,   5.20259754e-05,\n",
       "        -1.90441305e-02,  -1.07560781e+00,  -6.70391450e+00,\n",
       "         1.12745321e+00,  -3.86268041e+01,   5.51614728e-03,\n",
       "        -1.24522782e-01,   6.11954143e+01,  -1.94372733e+00,\n",
       "         1.46048936e+02,   5.27761681e+00,   4.96305350e+00,\n",
       "        -3.77806060e-04,  -1.98230492e+00,  -3.63368288e-01,\n",
       "        -3.41489287e-01,   7.25619737e+01,  -2.30868938e-01,\n",
       "        -2.85512711e-01,  -1.03336674e-05,   2.61326605e-04,\n",
       "         1.26104120e-02,  -2.83542855e-02,  -1.33502262e+00,\n",
       "         7.65469697e+00,   5.05245525e+01,  -9.93101045e-02,\n",
       "        -8.20737265e-05,  -4.89204183e-01,  -1.89717358e+00,\n",
       "         4.19153764e-02,  -2.39841095e-01,   2.22945984e-04,\n",
       "        -3.28018987e-03,  -3.09722968e+00,   9.56650010e+00,\n",
       "        -6.09984615e+02,   5.96467408e-01,  -2.82432735e-03,\n",
       "        -5.03256806e+00,  -7.50414585e+00,   1.22210549e-01,\n",
       "         7.56742933e+00,   7.75424774e-02,  -4.32115125e-02,\n",
       "         4.16462885e-03,  -9.05231149e-03,   4.85164384e+00,\n",
       "        -6.62956388e-01,   6.83906716e-01,  -6.54364840e+00,\n",
       "         2.32480082e+00,   9.41411987e+00,  -3.14955786e+00,\n",
       "        -9.67699705e-01,  -1.58760699e+04,  -1.18257226e+02,\n",
       "        -2.28887946e-01,   1.21633166e+01,  -8.57467767e+02,\n",
       "         5.74319012e+01,  -1.09616998e+00,  -7.39436167e+00,\n",
       "         6.67943200e+00,  -4.87577824e+00,   1.51376423e-01,\n",
       "        -4.04965314e-01,  -1.64854889e+00,  -9.30709865e-02,\n",
       "        -4.42337609e+00,   1.17155810e-01,  -1.93494663e+00,\n",
       "         1.56241167e-03,   5.03769914e-03,   2.17358768e-02,\n",
       "        -1.92611842e-04,   2.21661977e-02,   1.45448763e-03,\n",
       "        -2.33846600e-03,   5.90350688e-01,  -5.57368737e+00,\n",
       "         5.07845985e-02,   4.71563283e+00,  -2.41701827e-01,\n",
       "        -3.73742068e-03,  -6.53001498e+00,  -1.93420899e-01,\n",
       "        -7.09070970e+01,   1.58394417e-01,   3.82849164e-02,\n",
       "         5.84281828e-03,  -2.77254611e-01,   3.31189098e-03,\n",
       "        -7.04149872e-03,  -2.76695620e+01,  -2.56459756e-02,\n",
       "        -2.07496968e-01,  -1.10780613e-02,  -3.87126285e-02,\n",
       "        -1.20870725e-01,  -8.98967701e+00,  -7.15534728e+00,\n",
       "        -5.12883681e+02,   3.71882212e+00,  -2.01723098e-02,\n",
       "        -4.11227877e+00,  -1.26021731e+02,   4.06673773e+00,\n",
       "         7.17761499e+01,   1.50626642e-02,   2.53960175e-01,\n",
       "        -3.16414739e-01,   1.83629469e-01,   2.20718390e+00,\n",
       "        -8.62017097e-01,   1.35029647e+00,   5.41529755e-01,\n",
       "        -1.84671435e+00,   3.02198952e+00,   5.09857514e-01,\n",
       "        -4.76552323e-01,  -1.21419297e+04,   1.46610986e+01,\n",
       "        -5.03398201e+00,  -4.56720945e+01,   1.77486167e+04,\n",
       "        -3.75772531e+02,   4.10684047e+03,  -4.88721000e+00,\n",
       "        -7.34068745e+00,  -7.89141608e+00,  -4.85242725e-01,\n",
       "         5.43094137e+00,  -2.46916576e+01,   1.34060612e-01,\n",
       "        -7.95758828e+00,   9.64510450e-01,  -2.42164110e+00,\n",
       "         7.14411141e-03,   2.88493703e-02,   1.42216262e-01,\n",
       "         2.68514045e-03,   1.11028086e-01,  -1.10142052e-02,\n",
       "        -6.71046570e-02,  -4.59878990e+00,   1.99823983e+00,\n",
       "         1.03974419e-01,   7.08586456e+00,  -9.33563518e-02,\n",
       "         5.90037884e-02,  -1.52273390e+02,   5.76164561e+00,\n",
       "         2.60069962e+01,  -5.66858332e-01,  -1.60882902e+00,\n",
       "        -9.32728421e-02,  -1.59372564e+01,   7.11276817e-03,\n",
       "         1.14365253e-02,  -6.26377459e+01,   3.50601294e-01,\n",
       "        -5.94034557e-01,  -5.09073427e-03,   4.39781789e-04,\n",
       "        -8.84467046e-02,  -7.96202501e-02,  -2.40110808e-02,\n",
       "        -1.86013455e-01,  -2.85805986e+00,  -3.96740498e-02,\n",
       "        -7.26855482e-01,  -1.65970588e+01,  -3.80016362e-01,\n",
       "        -2.33943544e+01,   1.99800860e-01,   6.65873641e-03,\n",
       "        -2.60121356e-02,   4.40344633e-01,  -7.23087431e-03,\n",
       "        -2.14331288e-01,  -1.42976801e-01,   3.05077350e-02,\n",
       "        -6.62069924e+00,   5.62479534e-01,   3.03154592e-01,\n",
       "         1.07512927e+01,   1.02540760e+00,  -2.65777519e+00,\n",
       "         9.56746474e-01,   4.99367240e+00,  -4.68472111e+00,\n",
       "         7.39979573e+00,  -7.86801180e-01,  -7.83012593e+00,\n",
       "         2.60365656e-01,   1.14271507e-01,  -7.60339594e+00,\n",
       "         3.40150680e-01,   3.52112567e+00,   1.50471227e+00,\n",
       "        -2.33925794e+00,   2.62983228e+00,   4.14272581e+00,\n",
       "        -1.20297499e+00,   1.61798863e+00,   2.80215828e+00,\n",
       "         8.48486626e-01,  -7.00270683e+00,  -2.21247507e+00,\n",
       "        -1.44669354e+00,   3.20170478e-01,  -1.17087363e+01,\n",
       "        -1.21003733e-02,   1.80062552e-01,   1.04304684e+01,\n",
       "         6.10793923e+00,  -2.80589520e-01,  -1.62973692e-02,\n",
       "        -9.66092316e-01,  -1.89507613e+00,  -8.30179540e+03,\n",
       "         1.20983766e+03,  -2.75526865e+01,  -2.47055073e+03,\n",
       "        -1.88636849e+05,   9.78039989e+03,  -7.47743772e+04,\n",
       "         4.16849124e+00,   1.10759846e+01,   9.08156495e+01,\n",
       "         5.10746440e+00,   4.28605456e+01,   5.30256965e+01,\n",
       "        -7.86410686e+00,   1.75992333e+02,   5.37569513e-02,\n",
       "         1.19443781e+01,  -1.90790326e-01,  -3.40196880e+00,\n",
       "         6.85181321e-01,   1.49653246e-01,  -2.73594819e+00,\n",
       "         2.29214193e-02,   1.73681576e-01,  -2.76157146e+02,\n",
       "        -3.09863382e+02,   1.92473837e+01,   2.01338421e+02,\n",
       "         3.05238445e-01,  -3.01536870e+01,  -4.39609864e+03,\n",
       "        -1.03494225e+02,  -3.18208184e+04,   1.16830416e+01,\n",
       "        -2.18211130e+01,   5.56084752e+00,   8.76068540e+02,\n",
       "        -4.22659901e-01,   7.44655652e-01,  -1.03462151e+04,\n",
       "        -2.06306405e+01,   3.80464060e+01,  -3.62596272e-04,\n",
       "        -2.79569701e-02,  -6.66039166e-01,   2.76627041e-01,\n",
       "         1.06297180e-01,   6.47901725e+00,  -1.16235606e+01,\n",
       "         7.35447970e-01,  -1.13087058e+01,  -1.50442059e-02,\n",
       "        -2.73730801e-01,   2.47894988e-03,   2.60627649e-01,\n",
       "         5.49498193e-04,   1.51905485e-02,   9.64653809e-02,\n",
       "        -5.60864503e-03,   7.50414789e-02,  -6.41305056e-01,\n",
       "         2.31599518e+00,  -3.53293909e-01,   6.08420206e+00,\n",
       "        -5.16698660e-02,   7.81280392e-01,  -5.85303982e-01,\n",
       "         8.01491282e-01,   2.31656100e+01,   1.29811387e+00,\n",
       "        -2.90915497e+00,  -1.10595607e-02,  -2.50046973e-01,\n",
       "        -9.89532421e-02,   1.98859741e-01,  -1.49260976e+01,\n",
       "         7.13520124e-01,  -2.31486461e+00,   3.53260271e-04,\n",
       "         6.29020179e-03,  -1.04618686e-01,   1.78901918e-04,\n",
       "         4.82278433e-03,   2.98366106e-03,  -2.80647963e-04,\n",
       "        -4.73273682e-03,   5.33498769e-05,  -3.74323099e-05,\n",
       "        -2.69727345e-02,   1.23555148e-01,  -3.21564824e-03,\n",
       "        -2.73544096e-01,  -7.66911343e-04,  -2.16070476e-03,\n",
       "        -3.59962489e-03,  -2.32109521e-03,  -1.94379800e-01,\n",
       "        -2.03925323e-02,  -3.63605463e-02,  -6.52850213e-05,\n",
       "        -7.60583488e-03,   1.35399242e-03,   4.05512328e-03,\n",
       "         1.79244783e-01,   4.82617646e-03,   4.89951736e-03,\n",
       "        -1.87407204e-05,  -3.48976285e-04,   2.53780033e-03,\n",
       "        -3.51523636e+00,  -3.28701854e+00,   4.00294432e-01,\n",
       "         2.94167923e+00,   2.66774094e-02,  -1.20469442e-01,\n",
       "         1.02361263e+01,  -7.20805916e-01,   2.27945504e+01,\n",
       "         2.71792670e-01,  -8.00009541e-01,   3.15553597e-03,\n",
       "        -5.58173633e-01,  -8.47743270e-03,   5.37204117e-02,\n",
       "         1.86848070e+01,  -5.25787201e-01,  -6.32549207e-01,\n",
       "        -1.42147053e-04,  -1.11652143e-03,   9.43801677e-03,\n",
       "         1.29995768e+02,  -5.26821113e+00,  -1.26347339e+02,\n",
       "         4.48744904e-01,   6.41328597e-01,   2.39931905e-01,\n",
       "        -5.16881039e+00,  -1.52983236e-03,   2.59007423e-02,\n",
       "        -3.54821225e+02,   7.53997373e-01,   1.25552876e+00,\n",
       "         2.60573926e-03,   5.64059274e-02,  -7.16372548e-02,\n",
       "         2.83725974e-04,   2.31090032e-01,  -3.45313223e-04,\n",
       "        -8.76590764e-04,   3.18785039e+00,  -3.36739720e-02,\n",
       "        -5.15562359e-02,  -6.73703971e-06,  -3.33890536e-03,\n",
       "         5.40021573e-03,   7.98497953e+01,   4.20161689e-01,\n",
       "        -1.16600702e+00,  -1.01577635e-02,  -4.67601674e-02,\n",
       "        -9.88290445e-02,   4.60779120e-07,   5.48844218e-05,\n",
       "         3.98753067e-04,  -6.80353526e-03])"
      ]
     },
     "execution_count": 115,
     "metadata": {},
     "output_type": "execute_result"
    }
   ],
   "source": [
    "lm.coef_"
   ]
  },
  {
   "cell_type": "code",
   "execution_count": 116,
   "metadata": {},
   "outputs": [
    {
     "data": {
      "text/plain": [
       "557954.91359177628"
      ]
     },
     "execution_count": 116,
     "metadata": {},
     "output_type": "execute_result"
    }
   ],
   "source": [
    "lm.intercept_"
   ]
  },
  {
   "cell_type": "code",
   "execution_count": 117,
   "metadata": {},
   "outputs": [
    {
     "data": {
      "text/plain": [
       "<matplotlib.collections.PathCollection at 0x1e828187128>"
      ]
     },
     "execution_count": 117,
     "metadata": {},
     "output_type": "execute_result"
    }
   ],
   "source": [
    "plot.scatter(X[\"RM\"], y, color = \"black\")\n",
    "#plot.scatter(X, y, color = \"black\")"
   ]
  },
  {
   "cell_type": "code",
   "execution_count": 118,
   "metadata": {},
   "outputs": [
    {
     "data": {
      "text/plain": [
       "<matplotlib.collections.PathCollection at 0x1e827fd1dd8>"
      ]
     },
     "execution_count": 118,
     "metadata": {},
     "output_type": "execute_result"
    }
   ],
   "source": [
    "plot.scatter(X[\"RM\"], predictions, color = \"blue\")\n",
    "#plot.scatter(X, predictions, color = \"blue\")"
   ]
  },
  {
   "cell_type": "code",
   "execution_count": 119,
   "metadata": {},
   "outputs": [
    {
     "data": {
      "image/png": "[encoded data removed]",
      "text/plain": [
       "<matplotlib.figure.Figure at 0x1e828138128>"
      ]
     },
     "metadata": {},
     "output_type": "display_data"
    }
   ],
   "source": [
    "plot.show()"
   ]
  },
  {
   "cell_type": "code",
   "execution_count": 28,
   "metadata": {},
   "outputs": [
    {
     "data": {
      "text/plain": [
       "0      24.0\n",
       "1      21.6\n",
       "2      34.7\n",
       "3      33.4\n",
       "4      36.2\n",
       "5      28.7\n",
       "6      22.9\n",
       "7      27.1\n",
       "8      16.5\n",
       "9      18.9\n",
       "10     15.0\n",
       "11     18.9\n",
       "12     21.7\n",
       "13     20.4\n",
       "14     18.2\n",
       "15     19.9\n",
       "16     23.1\n",
       "17     17.5\n",
       "18     20.2\n",
       "19     18.2\n",
       "20     13.6\n",
       "21     19.6\n",
       "22     15.2\n",
       "23     14.5\n",
       "24     15.6\n",
       "25     13.9\n",
       "26     16.6\n",
       "27     14.8\n",
       "28     18.4\n",
       "29     21.0\n",
       "       ... \n",
       "476    16.7\n",
       "477    12.0\n",
       "478    14.6\n",
       "479    21.4\n",
       "480    23.0\n",
       "481    23.7\n",
       "482    25.0\n",
       "483    21.8\n",
       "484    20.6\n",
       "485    21.2\n",
       "486    19.1\n",
       "487    20.6\n",
       "488    15.2\n",
       "489     7.0\n",
       "490     8.1\n",
       "491    13.6\n",
       "492    20.1\n",
       "493    21.8\n",
       "494    24.5\n",
       "495    23.1\n",
       "496    19.7\n",
       "497    18.3\n",
       "498    21.2\n",
       "499    17.5\n",
       "500    16.8\n",
       "501    22.4\n",
       "502    20.6\n",
       "503    23.9\n",
       "504    22.0\n",
       "505    11.9\n",
       "Name: MEDV, Length: 506, dtype: float64"
      ]
     },
     "execution_count": 28,
     "metadata": {},
     "output_type": "execute_result"
    }
   ],
   "source": [
    "y"
   ]
  },
  {
   "cell_type": "code",
   "execution_count": null,
   "metadata": {
    "collapsed": true
   },
   "outputs": [],
   "source": []
  }
 ],
 "metadata": {
  "kernelspec": {
   "display_name": "Python 3",
   "language": "python",
   "name": "python3"
  },
  "language_info": {
   "codemirror_mode": {
    "name": "ipython",
    "version": 3
   },
   "file_extension": ".py",
   "mimetype": "text/x-python",
   "name": "python",
   "nbconvert_exporter": "python",
   "pygments_lexer": "ipython3",
   "version": "3.6.1"
  }
 },
 "nbformat": 4,
 "nbformat_minor": 2
}
